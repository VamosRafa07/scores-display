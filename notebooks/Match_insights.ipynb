{
 "cells": [
  {
   "cell_type": "code",
   "execution_count": null,
   "id": "promising-facility",
   "metadata": {},
   "outputs": [],
   "source": [
    "import numpy as np\n",
    "import os\n",
    "import pandas as pd\n",
    "from tqdm import tqdm\n",
    "import copy\n",
    "import pickle"
   ]
  },
  {
   "cell_type": "code",
   "execution_count": null,
   "id": "meaningful-tablet",
   "metadata": {},
   "outputs": [],
   "source": [
    "clean_data_path = os.path.join(\"..\", \"clean_data\") "
   ]
  },
  {
   "cell_type": "code",
   "execution_count": null,
   "id": "understood-cannon",
   "metadata": {},
   "outputs": [],
   "source": [
    "with open(os.path.join(clean_data_path, 'pre_compute_match.pkl'), 'rb') as file:\n",
    "    match_insight_obj = pickle.load(file)"
   ]
  },
  {
   "cell_type": "code",
   "execution_count": null,
   "id": "declared-thomson",
   "metadata": {
    "tags": []
   },
   "outputs": [],
   "source": []
  },
  {
   "cell_type": "code",
   "execution_count": null,
   "id": "antique-wealth",
   "metadata": {},
   "outputs": [],
   "source": [
    "df_team = pd.read_csv(os.path.join(clean_data_path, \"team.csv\"))\n",
    "df_team = df_team.loc[:, ~df_team.columns.str.contains('^Unnamed')]\n",
    "team_id_map = dict(zip(df_team.team_name, df_team.team_id))\n",
    "\n",
    "\n",
    "team_id_map[\"Delhi Capitals\"] = team_id_map[\"Delhi Daredevils\"]\n",
    "team_id_map[\"Punjab Kings\"] = team_id_map[\"Kings XI Punjab\"]\n"
   ]
  },
  {
   "cell_type": "code",
   "execution_count": null,
   "id": "chinese-honolulu",
   "metadata": {},
   "outputs": [],
   "source": [
    "df_venue = pd.read_csv(os.path.join(clean_data_path, \"venue.csv\"))\n",
    "df_team = df_venue.loc[:, ~df_venue.columns.str.contains('^Unnamed')]\n",
    "venue_id_map = dict(zip(df_venue.venue_location, df_venue.venue_id))\n"
   ]
  },
  {
   "cell_type": "code",
   "execution_count": null,
   "id": "intimate-voltage",
   "metadata": {},
   "outputs": [],
   "source": [
    "df_match = pd.read_csv(os.path.join(clean_data_path, \"match.csv\"))\n",
    "df_match = df_match.loc[:, ~df_match.columns.str.contains('^Unnamed')]\n"
   ]
  },
  {
   "cell_type": "code",
   "execution_count": null,
   "id": "injured-margin",
   "metadata": {},
   "outputs": [],
   "source": []
  },
  {
   "cell_type": "code",
   "execution_count": null,
   "id": "lonely-lucas",
   "metadata": {},
   "outputs": [],
   "source": [
    "#General insights for batting team, output [avg 1st inning score, avg PP score, win% batting first, avg 1st score vs opp, PP score vs opp, win% batting first vs opposition]\n",
    "\n",
    "def match_insight_1(batting_team_id, bowling_team_id, years_list):\n",
    "    #years_list = list of strings of years to be considered\n",
    "    #batting_team_id = integer ID of team batting first\n",
    "    #bowling_team_id = integer ID of team bowling first\n",
    "    #Output : list of 6 values [avg 1st inning score, avg PP score, win% batting first, avg 1st score vs opp, PP score vs opp, win% batting first vs opposition]  \n",
    "    \n",
    "    match_count=0 #variable to store no. of matches to get average\n",
    "    h2h = 0 #variable to count matches between 2 teams when batting team bats first\n",
    "    years_string=\"|\".join(years_list)\n",
    "    total = 0\n",
    "    pp = 0\n",
    "    wins =0 #wins for batting team when batting first\n",
    "    total_opp = 0\n",
    "    pp_opp = 0\n",
    "    wins_opp = 0 #wins for batting team when batting first against opposition\n",
    "    result=[]\n",
    "    for matches in match_insight_obj[batting_team_id].values():\n",
    "        if str(matches[\"match_date\"]) in years_string:\n",
    "            if matches[\"innings\"]==1:\n",
    "                match_count+=1\n",
    "                total += matches[\"batting_insights\"][\"runs_scored\"][\"Total\"]\n",
    "                pp += matches[\"batting_insights\"][\"runs_scored\"][\"Powerplay\"]\n",
    "                if matches[\"match_winner\"] == batting_team_id:\n",
    "                        wins += 1\n",
    "                if matches[\"opposition\"]==bowling_team_id:\n",
    "                    h2h +=1\n",
    "                    total_opp += matches[\"batting_insights\"][\"runs_scored\"][\"Total\"]\n",
    "                    pp_opp += matches[\"batting_insights\"][\"runs_scored\"][\"Powerplay\"]\n",
    "                    if matches[\"match_winner\"] == batting_team_id:\n",
    "                        wins_opp+=1\n",
    "    result = [total/match_count, pp/match_count, wins/match_count, total_opp/h2h, pp_opp/h2h, wins_opp/h2h]            \n",
    "    return result         \n",
    "            "
   ]
  },
  {
   "cell_type": "code",
   "execution_count": null,
   "id": "modified-intent",
   "metadata": {},
   "outputs": [],
   "source": [
    "# Calling match insights 1\n",
    "\n"
   ]
  },
  {
   "cell_type": "code",
   "execution_count": null,
   "id": "plain-victim",
   "metadata": {},
   "outputs": [],
   "source": [
    "# Venue based stats for batting first \n",
    "def match_insights_venue1(venue_id, years_list):\n",
    "    #Input : Venue ID\n",
    "    #years_list = list of strings of years to be considered\n",
    "    #Output : List of 3 values [first innings avg score, PP avg score, wins while batting first]\n",
    "    \n",
    "    years_string=\"|\".join(years_list)\n",
    "    total_runs_batting_first = 0\n",
    "    PP_score_batting_first = 0\n",
    "    wins_batting_first = 0 #wins for the team batting first in the given venue\n",
    "    match_count=0\n",
    "    for team_id in match_insight_obj:\n",
    "        for matches in match_insight_obj[team_id].values():\n",
    "            if str(matches[\"match_date\"]) in years_string:\n",
    "                if matches[\"venue\"]==venue_id:\n",
    "                    \n",
    "                    if matches[\"innings\"] == 1:\n",
    "                        match_count+=1\n",
    "                        total_runs_batting_first += matches[\"batting_insights\"][\"runs_scored\"][\"Total\"]\n",
    "                        PP_score_batting_first += matches[\"batting_insights\"][\"runs_scored\"][\"Powerplay\"]\n",
    "                        if matches[\"match_winner\"] == team_id:\n",
    "                            wins_batting_first+=1\n",
    "    result = [total_runs_batting_first/match_count, PP_score_batting_first/match_count, wins_batting_first/match_count]\n",
    "    return result"
   ]
  },
  {
   "cell_type": "code",
   "execution_count": null,
   "id": "impressive-darkness",
   "metadata": {},
   "outputs": [],
   "source": [
    "#Calling match_insights_venue\n"
   ]
  },
  {
   "cell_type": "code",
   "execution_count": null,
   "id": "portable-jerusalem",
   "metadata": {},
   "outputs": [],
   "source": [
    " # bowling team insights while bowling first\n",
    "def match_insight_2(bowling_team_id, years_list):\n",
    "    \n",
    "    years_string=\"|\".join(years_list)\n",
    "    total_runs_conceded = 0\n",
    "    PP_runs_conceded = 0\n",
    "    wins_bowling_first = 0 #wins for the bowling team when they bowled first\n",
    "    match_count = 0\n",
    "    for matches in match_insight_obj[bowling_team_id].values():\n",
    "        if str(matches[\"match_date\"]) in years_string:\n",
    "            if matches[\"innings\"] == 2:\n",
    "                match_count+=1\n",
    "                total_runs_conceded += matches[\"bowling_insights\"][\"runs_conceded\"][\"Total\"]\n",
    "                PP_runs_conceded += matches[\"bowling_insights\"][\"runs_conceded\"][\"Powerplay\"]\n",
    "                if matches[\"match_winner\"] == bowling_team_id:\n",
    "                        wins_bowling_first += 1\n",
    "    result = [total_runs_conceded/match_count, PP_runs_conceded/match_count, wins_bowling_first/match_count] \n",
    "    return result"
   ]
  },
  {
   "cell_type": "code",
   "execution_count": null,
   "id": "judicial-martin",
   "metadata": {},
   "outputs": [],
   "source": [
    "#Calling for match_insights_2\n"
   ]
  },
  {
   "cell_type": "code",
   "execution_count": null,
   "id": "theoretical-instrumentation",
   "metadata": {},
   "outputs": [],
   "source": [
    "#Innings break insight \n",
    "def match_insight_3(batting_team_id, bowling_team_id, years_list, total):\n",
    "    years_string=\"|\".join(years_list)\n",
    "    wins_batting_team = 0\n",
    "    wins_bowling_team = 0\n",
    "    match_count_batting = 0\n",
    "    match_count_bowling = 0\n",
    "    # win % for batting team defending that total or less\n",
    "    for matches in match_insight_obj[batting_team_id].values():\n",
    "        if str(matches[\"match_date\"]) in years_string:\n",
    "            if matches[\"innings\"] == 1  and (matches[\"batting_insights\"][\"runs_scored\"][\"Total\"]<=total):\n",
    "                match_count_batting += 1\n",
    "                if (matches[\"match_winner\"]==batting_team_id):\n",
    "                    wins_batting_team +=1\n",
    "    \n",
    "    #win % for bowling first team to chase that total or more\n",
    "    for matches in match_insight_obj[bowling_team_id].values():\n",
    "        if str(matches[\"match_date\"]) in years_string:\n",
    "            if matches[\"innings\"] == 2  and (matches[\"bowling_insights\"][\"runs_conceded\"][\"Total\"]>=total):\n",
    "                match_count_bowling += 1\n",
    "                if (matches[\"match_winner\"]==bowling_team_id):\n",
    "                    wins_bowling_team +=1 \n",
    "    \n",
    "    result= [wins_batting_team*100/match_count_batting, wins_bowling_team*100/match_count_bowling]\n",
    "    return result"
   ]
  },
  {
   "cell_type": "code",
   "execution_count": null,
   "id": "current-neighbor",
   "metadata": {},
   "outputs": [],
   "source": [
    "# Function call for match_insight_3\n",
    "\n"
   ]
  },
  {
   "cell_type": "code",
   "execution_count": null,
   "id": "unknown-depression",
   "metadata": {},
   "outputs": [],
   "source": [
    "# Innings break venue based results\n",
    "def match_insight_venue2(venue_id, years_list, total):\n",
    "    years_string=\"|\".join(years_list)\n",
    "    wins_batting_team = 0\n",
    "    match_count = 0\n",
    "    # win % for team batting first at that venue defending that total or less\n",
    "    for team_id in match_insight_obj:\n",
    "        for matches in match_insight_obj[team_id].values():\n",
    "            if str(matches[\"match_date\"]) in years_string:\n",
    "                if matches[\"venue\"]==venue_id:\n",
    "                    if matches[\"innings\"] == 1  and (matches[\"batting_insights\"][\"runs_scored\"][\"Total\"]<=total):\n",
    "                        match_count+=1\n",
    "                        if (matches[\"match_winner\"]==team_id):\n",
    "                            wins_batting_team +=1\n",
    "    \n",
    "    return wins_batting_team/match_count, match_count                        "
   ]
  },
  {
   "cell_type": "code",
   "execution_count": null,
   "id": "molecular-eleven",
   "metadata": {},
   "outputs": [],
   "source": [
    "#Inputs\n",
    "batting_team= \"Chennai Super Kings\"\n",
    "bowling_team = \"Mumbai Indians\"\n",
    "venue_location=\"Chennai\"\n",
    "years=[\"2020\",\"2019\",\"2018\",\"2017\",\"2016\"]\n",
    "total = 160\n",
    "venue_id=venue_id_map[venue_location]\n",
    "batting_team_id = team_id_map[batting_team]\n",
    "bowling_team_id = team_id_map[bowling_team]"
   ]
  },
  {
   "cell_type": "code",
   "execution_count": null,
   "id": "personalized-watts",
   "metadata": {},
   "outputs": [],
   "source": [
    "#during toss\n",
    "output = match_insight_1(batting_team_id, bowling_team_id, years)\n",
    "print(\"[avg 1st inning score, avg PP score, win% batting first, avg 1st score vs opp, PP score vs opp, win% batting first vs opposition]\")\n",
    "print(output)\n",
    "\n",
    "output1 = match_insights_venue1(venue_id, years)\n",
    "print(\"List of 3 values at the venue while batting first[first innings avg score, PP avg score, wins while batting first]\")\n",
    "print(output1)\n",
    "\n",
    "output2 = match_insight_2(bowling_team_id, years)\n",
    "print(\"List of 3 values for bowling team while bowling first: [avg runs conceded, avg runs in PP, win% while bowling first]\")\n",
    "print(output2)\n",
    "\n",
    "\n"
   ]
  },
  {
   "cell_type": "code",
   "execution_count": null,
   "id": "rational-analyst",
   "metadata": {},
   "outputs": [],
   "source": [
    "#during mid innings break\n",
    "\n",
    "output3 = match_insight_3(batting_team_id, bowling_team_id, years, total)\n",
    "print(\"win % for batting team defending that total or less and win % for bowling first team to chase that total or more\")\n",
    "print(output3)\n",
    "\n",
    "output4 = match_insight_venue2(venue_id, years, total)\n",
    "print(\" win % for team batting first at that venue defending that total or less\")\n",
    "print(output4)\n"
   ]
  },
  {
   "cell_type": "code",
   "execution_count": null,
   "id": "pregnant-separate",
   "metadata": {},
   "outputs": [],
   "source": []
  }
 ],
 "metadata": {
  "kernelspec": {
   "display_name": "Python 3",
   "language": "python",
   "name": "python3"
  },
  "language_info": {
   "codemirror_mode": {
    "name": "ipython",
    "version": 3
   },
   "file_extension": ".py",
   "mimetype": "text/x-python",
   "name": "python",
   "nbconvert_exporter": "python",
   "pygments_lexer": "ipython3",
   "version": "3.8.8"
  }
 },
 "nbformat": 4,
 "nbformat_minor": 5
}
