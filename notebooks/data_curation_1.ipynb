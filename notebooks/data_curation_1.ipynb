{
 "cells": [
  {
   "cell_type": "code",
   "execution_count": null,
   "metadata": {},
   "outputs": [],
   "source": [
    "# Basic\n",
    "from collections import Counter\n",
    "import math\n",
    "import numpy as np\n",
    "import os\n",
    "import pprint\n",
    "import sys\n",
    "\n",
    "# yaml specific\n",
    "import yaml\n",
    "\n",
    "# Data handling\n",
    "import pandas as pd\n",
    "from tqdm import tqdm\n",
    "\n",
    "# Appending root folder to path for easy importing\n",
    "sys.path.append(\"../\")\n",
    "\n",
    "# my library\n",
    "from src.db_utils import update_player, add_player "
   ]
  },
  {
   "cell_type": "code",
   "execution_count": null,
   "metadata": {},
   "outputs": [],
   "source": [
    "# Config variables\n",
    "raw_data_path = os.path.join(\"..\", \"raw_data\") \n",
    "clean_data_path = os.path.join(\"..\", \"clean_data\") "
   ]
  },
  {
   "cell_type": "markdown",
   "metadata": {},
   "source": [
    "### Utility functions. "
   ]
  },
  {
   "cell_type": "code",
   "execution_count": null,
   "metadata": {},
   "outputs": [],
   "source": [
    "def get_clean_teams(major_teams):\n",
    "    # remove bad chars from string\n",
    "    bad_chars = [';', ':', '!', \"*\", \"'\", '\"', '[', ']', ',']\n",
    "    teams = []\n",
    "    for team in major_teams.split(\", \"):\n",
    "        for char in bad_chars:\n",
    "            team = team.replace(char, \"\")\n",
    "        teams.append(team.strip().rstrip())\n",
    "    return teams"
   ]
  },
  {
   "cell_type": "markdown",
   "metadata": {},
   "source": [
    "# This notebook will be used to curate 4 tables. These tables are independent of matches\n",
    "## 1) Country 2) Tournament 3) Team 4) Player\n",
    "### Initially handling everything through CSVs. Later, we will see if using a DB is required"
   ]
  },
  {
   "cell_type": "code",
   "execution_count": null,
   "metadata": {},
   "outputs": [],
   "source": [
    "players = pd.read_csv(os.path.join(raw_data_path, \"players.csv\"))\n",
    "players = players.loc[:, ~players.columns.str.contains('^Unnamed')]"
   ]
  },
  {
   "cell_type": "markdown",
   "metadata": {},
   "source": [
    "## Country table"
   ]
  },
  {
   "cell_type": "markdown",
   "metadata": {},
   "source": [
    "### Focusing only on the top 20 countries with professional cricket players"
   ]
  },
  {
   "cell_type": "code",
   "execution_count": null,
   "metadata": {},
   "outputs": [],
   "source": [
    "countries = []\n",
    "for key, value in players[\"COUNTRY\"].value_counts().nlargest(20).iteritems():\n",
    "    countries.append(key)"
   ]
  },
  {
   "cell_type": "code",
   "execution_count": null,
   "metadata": {},
   "outputs": [],
   "source": [
    "country_columns = [\"country_id\", \"country_name\"]\n",
    "country_csv = pd.DataFrame(columns = country_columns)\n",
    "for i in range(len(countries)):\n",
    "    country_id = i+1\n",
    "    country_name = countries[i]\n",
    "    country_csv = country_csv.append({\"country_id\" : country_id, \n",
    "                                      \"country_name\" : country_name}, ignore_index=True)\n",
    "country_csv.to_csv(os.path.join(clean_data_path, \"country.csv\"), index=False)"
   ]
  },
  {
   "cell_type": "markdown",
   "metadata": {},
   "source": [
    "## Tournament table"
   ]
  },
  {
   "cell_type": "markdown",
   "metadata": {},
   "source": [
    "### Each zip file in https://cricsheet.org/ is going to be considered as a separate tournament. This list is going to be manually curated due to its short size. These are the only matches we will be caring about"
   ]
  },
  {
   "cell_type": "code",
   "execution_count": null,
   "metadata": {},
   "outputs": [],
   "source": [
    "tournaments = [\n",
    "    {\n",
    "        \"tournament_name\" : \"TEST\",\n",
    "        \"tournament_format\" : \"TEST\",\n",
    "        \"tournament_full_name\" : \"Test International Match\"\n",
    "    },\n",
    "    {\n",
    "        \"tournament_name\" : \"ODI\",\n",
    "        \"tournament_format\" : \"ODI\",\n",
    "        \"tournament_full_name\" : \"ODI Match\"\n",
    "    },\n",
    "    {\n",
    "        \"tournament_name\" : \"T20I\",\n",
    "        \"tournament_format\" : \"T20\",\n",
    "        \"tournament_full_name\" : \"T20 International Match\"\n",
    "    },\n",
    "    {\n",
    "        \"tournament_name\" : \"BBL\",\n",
    "        \"tournament_format\" : \"T20\",\n",
    "        \"tournament_full_name\" : \"Big Bash League\"\n",
    "    },\n",
    "    {\n",
    "        \"tournament_name\" : \"IPL\",\n",
    "        \"tournament_format\" : \"T20\",\n",
    "        \"tournament_full_name\" : \"Indian Premier Leargue\"\n",
    "    },\n",
    "    {\n",
    "        \"tournament_name\" : \"CPL\",\n",
    "        \"tournament_format\" : \"T20\",\n",
    "        \"tournament_full_name\" : \"Caribbean Premier Leargue\"\n",
    "    },\n",
    "    {\n",
    "        \"tournament_name\" : \"T20B\",\n",
    "        \"tournament_format\" : \"T20\",\n",
    "        \"tournament_full_name\" : \"T20 Blast\"\n",
    "    },\n",
    "    {\n",
    "        \"tournament_name\" : \"PSL\",\n",
    "        \"tournament_format\" : \"T20\",\n",
    "        \"tournament_full_name\" : \"Pakistan Super League\"\n",
    "    },\n",
    "    {\n",
    "        \"tournament_name\" : \"SSM\",\n",
    "        \"tournament_format\" : \"T20\",\n",
    "        \"tournament_full_name\" : \"Super Smash\"\n",
    "    },\n",
    "    {\n",
    "        \"tournament_name\" : \"WBB\",\n",
    "        \"tournament_format\" : \"T20\",\n",
    "        \"tournament_full_name\" : \"Womens Big Bash League\"\n",
    "    }\n",
    "]"
   ]
  },
  {
   "cell_type": "code",
   "execution_count": null,
   "metadata": {},
   "outputs": [],
   "source": [
    "tournament_columns = [\"tournament_id\", \"tournament_name\", \"tournament_format\", \"tournament_full_name\"]\n",
    "tournament_csv = pd.DataFrame(columns = tournament_columns)\n",
    "for i in range(len(tournaments)):\n",
    "    tournament_id = i+1\n",
    "    tournament_name = tournaments[i][\"tournament_name\"]\n",
    "    tournament_format = tournaments[i][\"tournament_format\"]\n",
    "    tournament_full_name = tournaments[i][\"tournament_full_name\"]\n",
    "    tournament_csv = tournament_csv.append({\"tournament_id\" : tournament_id, \n",
    "                                      \"tournament_name\" : tournament_name,\n",
    "                                      \"tournament_format\" : tournament_format, \n",
    "                                      \"tournament_full_name\" : tournament_full_name}, ignore_index=True)\n",
    "tournament_csv.to_csv(os.path.join(clean_data_path, \"tournament.csv\"), index=False)"
   ]
  },
  {
   "cell_type": "markdown",
   "metadata": {},
   "source": [
    "## Team table\n"
   ]
  },
  {
   "cell_type": "markdown",
   "metadata": {},
   "source": [
    "### Considering only those teams where the players belong to the above 20 countries and aged < 50 (as of 2019)"
   ]
  },
  {
   "cell_type": "code",
   "execution_count": null,
   "metadata": {},
   "outputs": [],
   "source": [
    "# considering only the top 10 countries as the remaining countries barely have 10 important players that can be seperately ingested. \n",
    "required_countries = countries[:-10]\n",
    "required_columns = ['NAME', 'COUNTRY', 'Full name', 'Birthdate', 'Major teams', 'Batting style', 'Bowling style', 'Other']\n",
    "required_players = players[(players[\"COUNTRY\"].isin(countries)) & (players[\"Age\"] <= 55)][required_columns]"
   ]
  },
  {
   "cell_type": "code",
   "execution_count": null,
   "metadata": {},
   "outputs": [],
   "source": [
    "teams = []\n",
    "for index, row in tqdm(required_players.iterrows()):\n",
    "    # skip columns that are not string\n",
    "    if type(row[\"Major teams\"]) is not str:\n",
    "        continue\n",
    "    for team in get_clean_teams(row[\"Major teams\"]):\n",
    "        teams.append(team)"
   ]
  },
  {
   "cell_type": "markdown",
   "metadata": {},
   "source": [
    "### If a team has less than 'threshold' registered professional players, ignore that team"
   ]
  },
  {
   "cell_type": "code",
   "execution_count": null,
   "metadata": {},
   "outputs": [],
   "source": [
    "threshold = 25\n",
    "teams_set = set()\n",
    "for team, count in Counter(teams).most_common():\n",
    "    if count > threshold:\n",
    "        teams_set.add(team)\n",
    "teams_list = list(teams_set)"
   ]
  },
  {
   "cell_type": "code",
   "execution_count": null,
   "metadata": {},
   "outputs": [],
   "source": [
    "len(teams_list)"
   ]
  },
  {
   "cell_type": "code",
   "execution_count": null,
   "metadata": {},
   "outputs": [],
   "source": [
    "team_csv = {}\n",
    "for i in tqdm(range(len(teams_list))):\n",
    "    team_id = i+1\n",
    "    team_name = teams_list[i]\n",
    "    team_label = \"\".join(word[0] for word in team_name.split(\" \"))\n",
    "    team_csv[team_name] = {\n",
    "        \"team_id\" : team_id, \n",
    "        \"team_name\" : team_name, \n",
    "        \"team_label\" : team_label\n",
    "    }\n",
    "team_csv[\"Delhi Capitals\"] = {\n",
    "    \"team_id\" : team_csv[\"Delhi Daredevils\"][\"team_id\"], \n",
    "    \"team_name\" : \"Delhi Capitals\", \n",
    "    \"team_label\" : \"DC\"\n",
    "}\n",
    "\n",
    "team_csv[\"Punjab Kings\"] = {\n",
    "    \"team_id\" : team_csv[\"Kings XI Punjab\"][\"team_id\"], \n",
    "    \"team_name\" : \"Punjab Kings\", \n",
    "    \"team_label\" : \"PK\"\n",
    "}\n",
    "\n",
    "df_team_csv = pd.DataFrame.from_dict(team_csv, \"index\")\n",
    "df_team_csv.to_csv(os.path.join(clean_data_path, \"team.csv\"), index=False)"
   ]
  },
  {
   "cell_type": "markdown",
   "metadata": {},
   "source": [
    "## Player table"
   ]
  },
  {
   "cell_type": "markdown",
   "metadata": {},
   "source": [
    "### Considering only those players who belong to the 20 countries and aged < 50 (as of 2019)"
   ]
  },
  {
   "cell_type": "markdown",
   "metadata": {},
   "source": [
    "### Utility maps to ingest players"
   ]
  },
  {
   "cell_type": "code",
   "execution_count": null,
   "metadata": {},
   "outputs": [],
   "source": [
    "df_country = pd.read_csv(os.path.join(clean_data_path, \"country.csv\"))\n",
    "df_country = df_country.loc[:, ~df_country.columns.str.contains('^Unnamed')]\n",
    "country_id_map = dict(zip(df_country.country_name, df_country.country_id))"
   ]
  },
  {
   "cell_type": "code",
   "execution_count": null,
   "metadata": {},
   "outputs": [],
   "source": [
    "df_team = pd.read_csv(os.path.join(clean_data_path, \"team.csv\"))\n",
    "df_team = df_team.loc[:, ~df_team.columns.str.contains('^Unnamed')]\n",
    "team_id_map = dict(zip(df_team.team_name, df_team.team_id))"
   ]
  },
  {
   "cell_type": "code",
   "execution_count": null,
   "metadata": {},
   "outputs": [],
   "source": [
    "player_columns = [\"player_id\", \"player_display_name\", \"player_name\", \"player_full_name\", \"batting_style\", \"bowling_style\", \"birthdate\", \"country_id\"]\n",
    "player_csv = {}\n",
    "i = 0 # player tracker\n",
    "team_threshold = 2 # Keep only those players who play in atleast these many teams\n",
    "for index, row in tqdm(required_players.iterrows()):\n",
    "    \n",
    "    # If player doesnt have a proper team skip\n",
    "    if type(row[\"Major teams\"]) is not str:\n",
    "        continue\n",
    "    \n",
    "    # Getting the list of team ids this player has played in\n",
    "    team_list_ids = \"\"\n",
    "    for team in get_clean_teams(row[\"Major teams\"]):\n",
    "        if team in team_id_map:\n",
    "            team_list_ids += str(team_id_map[team]) + \",\"\n",
    "            \n",
    "    # If the player doesnt play in atleast 2 teams skip them\n",
    "    if len(team_list_ids.split(\",\")) < team_threshold+1 :\n",
    "        continue\n",
    "        \n",
    "    # removing last comma\n",
    "    team_list_ids = team_list_ids[:-1]\n",
    "    \n",
    "    player_id = i+1\n",
    "    player_display_name = \"\" # This needs to be updated later with fuzzy matching\n",
    "    player_name = row[\"NAME\"]\n",
    "    player_full_name = row[\"Full name\"]\n",
    "    batting_style = row[\"Batting style\"]\n",
    "    bowling_style = row[\"Bowling style\"]\n",
    "    birthdate = row[\"Birthdate\"]\n",
    "    country_id = country_id_map[row[\"COUNTRY\"]]\n",
    "    list_team_ids = team_list_ids\n",
    "    \n",
    "    player_csv[i] = {\n",
    "                        \"player_id\" : player_id, \n",
    "                        \"player_display_name\" : player_display_name,\n",
    "                        \"player_name\" : player_name,\n",
    "                        \"player_full_name\" : player_full_name,\n",
    "                        \"batting_style\" : batting_style,\n",
    "                        \"bowling_style\" : bowling_style,\n",
    "                        \"birthdate\" : birthdate,\n",
    "                        \"country_id\" : country_id,\n",
    "                        \"list_team_ids\" : list_team_ids\n",
    "    }\n",
    "    \n",
    "    i += 1\n",
    "    \n",
    "df_player_csv = pd.DataFrame.from_dict(player_csv, \"index\")\n",
    "df_player_csv.to_csv(os.path.join(clean_data_path, \"player.csv\"), index=False)"
   ]
  },
  {
   "cell_type": "code",
   "execution_count": null,
   "metadata": {},
   "outputs": [],
   "source": [
    "len(player_csv)"
   ]
  },
  {
   "cell_type": "markdown",
   "metadata": {},
   "source": [
    "### Use this cell for all manual corrections to update/insert in players table"
   ]
  },
  {
   "cell_type": "code",
   "execution_count": null,
   "metadata": {},
   "outputs": [],
   "source": [
    "\n",
    "# inserts\n",
    "\n",
    "# IPL\n",
    "add_player(\"Ankit Soni\", \"Ankit Soni\", \"Ankit Soni\", \"Right-hand bat\", \"Legbreak googly\", \"02/08/1993\", \"2\", str(team_id_map[\"Gujarat Lions\"]))\n",
    "add_player(\"J Suchith\", \"Jagadeesha Suchith\", \"Jagadeesha Suchith\", \"Left-hand bat\", \"Slow left-arm orthodox\", \"01/16/1994\", \"2\", str(team_id_map[\"Kings XI Punjab\"]))\n",
    "add_player(\"SD Lad\", \"Siddhesh Lad\", \"Siddhesh Dinesh Lad\", \"Right-hand bat\", \"Right-arm offbreak\", \"23/05/92\", \"2\", str(team_id_map[\"Mumbai Indians\"]))\n",
    "add_player(\"S Kaushik\", \"Shivil Kaushik\", \"Shivil Sharma Kaushik\", \"Left-hand bat\", \"Slow left-arm wrist-spin\", \"07/09/95\", \"2\", str(team_id_map[\"Gujarat Lions\"]))\n",
    "add_player(\"KM Asif\", \"KM Asif\", \"KM Asif\", \"Right-hand bat\", \"Right-arm medium\", \"24/07/93\", \"2\", str(team_id_map[\"Chennai Super Kings\"]))\n",
    "add_player(\"AS Roy\", \"Anukul Roy\", \"Anukul Sudhakar Roy\", \"Left-hand bat\", \"Slow left-arm orthodox\", \"30/11/98\", \"2\", str(team_id_map[\"Mumbai Indians\"]))\n",
    "add_player(\"YBK Jaiswal\", \"Yashasvi Jaiswal\", \"Yashasvi Bhupendra Kumar Jaiswal\", \"Left-hand bat\", \"\", \"28/12/01\", \"2\", str(team_id_map[\"Rajasthan Royals\"]))\n",
    "add_player(\"Abdul Samad\", \"Abdul Samad\", \"Abdul Samad\", \"Right-hand bat\", \"Right-arm legbreak\", \"10/28/01\", \"2\", str(team_id_map[\"Sunrisers Hyderabad\"]))\n",
    "add_player(\"Kartik Tyagi\", \"Kartik Tyagi\", \"Kartik Tyagi\", \"Right-hand bat\", \"Right-arm fast\", \"11/08/00\", \"2\", str(team_id_map[\"Rajasthan Royals\"]))\n",
    "add_player(\"Lalit Yadav\", \"Lalit Yadav\", \"Lalit Yadav\", \"Right-hand bat\", \"Right-arm offbreak\", \"03/01/97\", \"2\", str(team_id_map[\"Delhi Daredevils\"]))\n",
    "add_player(\"Ravi Bishnoi\", \"Ravi Bishnoi\", \"Ravi Bishnoi\", \"Right-hand bat\", \"Legbreak googly\", \"05/09/00\", \"2\", str(team_id_map[\"Kings XI Punjab\"]))\n",
    "add_player(\"RA Shaikh\", \"Rahil Shaikh\", \"Rahil Akhil Ahmed Shaikh\", \"Left-hand bat\", \"Left-arm medium\", \"12/06/85\", \"2\", str(team_id_map[\"Mumbai Indians\"]))\n",
    "add_player(\"AN Ahmed\", \"AN Ahmed\", \"AN Ahmed\", \"Left-hand bat\", \"Left-arm medium\", \"12/06/85\", \"2\", str(team_id_map[\"Mumbai Indians\"]))\n",
    "add_player(\"AA Kazi\", \"Abrar Kazi\", \"Abrar Anjum Kazi\", \"Left-hand bat\", \"Slow left-arm orthodox\", \"10/29/89\", \"2\", str(team_id_map[\"Royal Challengers Bangalore\"]))\n",
    "add_player(\"T Mishra\", \"Tanmay Mishra\", \"Tanmay Mishra\", \"Right-hand bat\", \"Right-arm medium-fast\", \"12/22/86\", \"2\", str(team_id_map[\"Deccan Chargers\"]))\n",
    "# 2021\n",
    "add_player(\"\", \"Bhagath Varma\", \"Kanumuri Bhagath Varma\", \"Right-hand bat\", \"Right-arm offbreak\", \"\", \"2\", \"50\")\n",
    "add_player(\"\", \"C Hari Nishaanth\", \"Chezhian Nishaanth\", \"Left-hand bat\", \"Right-arm offbreak\", \"\", \"2\", \"50\")\n",
    "add_player(\"\", \"Ravisrinivasan Sai Kishore\", \"Ravisrinivasan Sai Kishore\", \"Left-hand bat\", \"Slow left-arm orthodox\", \"\", \"2\", \"50\")\n",
    "add_player(\"\", \"Lukman Meriwala\", \"Lukman Iqbal Meriwala\", \"Left-hand bat\", \"Left-arm fast-medium\", \"\", \"2\", \"322\")\n",
    "add_player(\"\", \"Ripal Patel\", \"Ripal Vinubhai Patel\", \"Right-hand bat\", \"Right-arm medium-fast\", \"\", \"2\", \"322\")\n",
    "add_player(\"\", \"Manimaran Siddharth\", \"Manimaran Siddharth\", \"Right-hand bat\", \"Slow left-arm orthodox\", \"\", \"2\", \"322\")\n",
    "add_player(\"\", \"Vaibhav Arora\", \"Vaibhav Gopal Arora\", \"Right-hand bat\", \"Right-arm fast-medium\", \"\", \"2\", \"356\")\n",
    "add_player(\"\", \"Marco Jansen\", \"Marco Jansen\", \"Right-hand bat\", \"Left-arm fast\", \"\", \"3\", \"86\")\n",
    "add_player(\"\", \"Yudhvir Singh\", \"Yudhvir Singh Charak\", \"Right-hand bat\", \"Right-arm medium-fast\", \"\", \"2\", \"86\")\n",
    "add_player(\"\", \"Prabhsimran Singh\", \"Prabhsimran Singh\", \"Right-hand bat\", \"\", \"\", \"2\", \"591\")\n",
    "add_player(\"\", \"Utkarsh Singh\", \"Utkarsh Rajiv Singh\", \"Left-hand bat\", \"Right-arm offbreak\", \"\", \"2\", \"591\")\n",
    "add_player(\"\", \"Akash Singh\", \"Akash Singh\", \"Right-hand bat\", \"\", \"\", \"2\", \"113\")\n",
    "add_player(\"\", \"Kuldip Yadav\", \"Kuldip Yadav\", \"\", \"\", \"\", \"2\", \"113\")\n",
    "add_player(\"\", \"Finn Allen\", \"Finnley Hugh Allen\", \"Right-hand bat\", \"\", \"\", \"7\", \"567\")\n",
    "add_player(\"\", \"Pavan Deshpande\", \"Pavan Uday Deshpande\", \"Left-hand bat\", \"Right-arm offbreak\", \"\", \"2\", \"567\")\n",
    "add_player(\"\", \"Mohammed Azharuddeen\", \"Mohammed Azharuddeen\", \"Right-hand bat\", \"\", \"\", \"2\", \"567\")\n",
    "add_player(\"\", \"Suyash Prabhudessai\", \"Suyash S Prabhudessai\", \"Right-hand bat\", \"Right-arm medium\", \"\", \"2\", \"567\")\n",
    "add_player(\"\", \"Shahbaz Ahmed\", \"Shahbaz Ahmed\", \"Left-hand bat\", \"Slow left-arm orthodox\", \"\", \"2\", \"567\")\n",
    "add_player(\"\", \"Virat Singh\", \"Virat Binod Singh\", \"Left-hand bat\", \"Legbreak googly\", \"\", \"2\", \"136\")\n",
    "add_player(\"RV Patel\", \"Ripal Patel\", \"Ripal Patel\", \"Right-hand bat\", \"Legbreak googly\", \"Right-arm medium-fast\", \"2\", \"136\")\n",
    "\n",
    "# BBL\n",
    "add_player(\"AG Harriott\", \"Andrew Harriott\", \"Andrew Harriott\", \"Right-hand bat\", \"Right-arm medium-fast\", \"05/03/92\", \"4\", str(team_id_map[\"Melbourne Renegades\"]))\n",
    "add_player(\"B Doggett\", \"Brendan Doggett\", \"Brendan Doggett\", \"Right-hand bat\", \"Right-arm fast-medium\", \"03/05/94\", \"4\", str(team_id_map[\"Sydney Thunder\"]) + \",\" + str(team_id_map[\"Brisbane Heat\"]))\n",
    "add_player(\"CP Simpson\", \"Chris Simpson\", \"Christopher Patrick Simpson\", \"Right-hand bat\", \"Right-arm offbreak\", \"09/01/82\", \"4\", str(team_id_map[\"Sydney Thunder\"]))\n",
    "add_player(\"D Morton\", \"Daniel Morton\", \"Daniel Morton\", \"Right-hand bat\", \"Right-arm offbreak\", \"\", \"4\", str(team_id_map[\"Perth Scorchers\"]))\n",
    "add_player(\"Dilbar Hussain\", \"Dilbar Hussain\", \"Dilbar Hussain\", \"Right-hand bat\", \"Right-arm fast-medium\", \"\", \"5\", str(team_id_map[\"Melbourne Stars\"]))\n",
    "add_player(\"GA West\", \"GA West\", \"GA West\", \"\", \"\", \"\", \"\", str(team_id_map[\"Adelaide Strikers\"]))\n",
    "add_player(\"H Kerr\", \"Hayden Kerr\", \"Hayden Kerr\", \"\", \"\", \"\", \"\", str(team_id_map[\"Sydney Sixers\"]))\n",
    "add_player(\"Haris Rauf\", \"Haris Rauf\", \"Haris Rauf\", \"Right-hand bat\", \"Right-arm fast\", \"11/07/93\", \"5\", str(team_id_map[\"Melbourne Stars\"]))\n",
    "add_player(\"J Fraser-McGurk\", \"Jake Fraser-McGurk\", \"Jake Fraser-McGurk\", \"Right-hand bat\", \"Legbreak googly\", \"11/04/02\", \"4\", str(team_id_map[\"Melbourne Renegades\"]))\n",
    "add_player(\"CR Swan\", \"CR Swan\", \"CR Swan\", \"\", \"\", \"\", \"4\", \"72\")\n",
    "add_player(\"JA Prestwidge\", \"JA Prestwidge\", \"JA Prestwidge\", \"\", \"\", \"\", \"4\", \"199, 72\")\n",
    "add_player(\"JP Wood\", \"JP Wood\", \"JP Wood\", \"\", \"\", \"\", \"4\", \"72\")\n",
    "add_player(\"K White (sub)\", \"K White (sub)\", \"K White (sub)\", \"\", \"\", \"\", \"4\", \"512\")\n",
    "add_player(\"L Bowe\", \"L Bowe\", \"L Bowe\", \"\", \"\", \"\", \"4\", \"512, 568\")\n",
    "add_player(\"LR Morris\", \"LR Morris\", \"LR Morris\", \"\", \"\", \"\", \"4\", \"568\")\n",
    "add_player(\"M Perry\", \"M Perry\", \"M Perry\", \"\", \"\", \"\", \"4\", \"199\")\n",
    "add_player(\"MJ Owen\", \"MJ Owen\", \"MJ Owen\", \"\", \"\", \"\", \"4\", \"45\")\n",
    "add_player(\"NA McSweeney\", \"NA McSweeney\", \"NA McSweeney\", \"\", \"\", \"\", \"4\", \"199\")\n",
    "add_player(\"NT Ellis\", \"NT Ellis\", \"NT Ellis\", \"\", \"\", \"\", \"4\", \"45\")\n",
    "add_player(\"Noor Ahmad\", \"Noor Ahmad\", \"Noor Ahmad\", \"\", \"\", \"\", \"4\", \"199\")\n",
    "add_player(\"O Davies\", \"O Davies\", \"O Davies\", \"\", \"\", \"\", \"4\", \"512\")\n",
    "add_player(\"P Hatzoglou\", \"P Hatzoglou\", \"P Hatzoglou\", \"\", \"\", \"\", \"4\", \"199\")\n",
    "add_player(\"RJG Lockyear\", \"RJG Lockyear\", \"RJG Lockyear\", \"\", \"\", \"\", \"4\", \"45, 512\")\n",
    "add_player(\"RR Ayre (sub)\", \"RR Ayre (sub)\", \"RR Ayre (sub)\", \"\", \"\", \"\", \"4\", \"455\")\n",
    "add_player(\"SJ Coyte (2)\", \"SJ Coyte (2)\", \"SJ Coyte (2)\", \"\", \"\", \"\", \"4\", \"512\")\n",
    "add_player(\"T Sangha\", \"T Sangha\", \"T Sangha\", \"\", \"\", \"\", \"4\", \"512\")\n",
    "add_player(\"XC Bartlett\", \"XC Bartlett\", \"XC Bartlett\", \"\", \"\", \"\", \"4\", \"72\")\n",
    "add_player(\"K White\", \"K White\", \"K White\", \"\", \"\", \"\", \"4\", \"447\")\n",
    "add_player(\"RR Ayre\", \"RR Ayre\", \"RR Ayre\", \"\", \"\", \"\", \"4\", \"241\")\n",
    "\n"
   ]
  },
  {
   "cell_type": "code",
   "execution_count": null,
   "metadata": {},
   "outputs": [],
   "source": []
  }
 ],
 "metadata": {
  "kernelspec": {
   "display_name": "cricboard",
   "language": "python",
   "name": "cricboard"
  },
  "language_info": {
   "codemirror_mode": {
    "name": "ipython",
    "version": 3
   },
   "file_extension": ".py",
   "mimetype": "text/x-python",
   "name": "python",
   "nbconvert_exporter": "python",
   "pygments_lexer": "ipython3",
   "version": "3.8.8"
  }
 },
 "nbformat": 4,
 "nbformat_minor": 4
}
