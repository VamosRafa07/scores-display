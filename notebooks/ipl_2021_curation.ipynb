{
 "cells": [
  {
   "cell_type": "code",
   "execution_count": null,
   "metadata": {},
   "outputs": [],
   "source": [
    "import requests\n",
    "from bs4 import BeautifulSoup\n",
    "import pandas as pd\n",
    "import os\n",
    "from tqdm import tqdm\n",
    "\n",
    "import numpy as np\n",
    "from fuzzywuzzy import fuzz, process\n",
    "\n",
    "from collections import defaultdict"
   ]
  },
  {
   "cell_type": "markdown",
   "metadata": {},
   "source": [
    "# This notebook will be used to \n",
    "## 1) Scrape cricinfo for a given years tournament schedule (eg: IPL 2021 schedule)\n",
    "## 2) Scrape squad details for a given season (eg: IPL 2021 squads list)\n",
    "## 3) Creating a team_player mapping table and dumping the csv"
   ]
  },
  {
   "cell_type": "code",
   "execution_count": null,
   "metadata": {},
   "outputs": [],
   "source": [
    "# Config\n",
    "clean_data_path = os.path.join(\"..\", \"clean_data\") \n",
    "tournament_name = \"IPL\""
   ]
  },
  {
   "cell_type": "code",
   "execution_count": null,
   "metadata": {},
   "outputs": [],
   "source": [
    "df_team = pd.read_csv(os.path.join(clean_data_path, \"team.csv\"))\n",
    "df_team = df_team.loc[:, ~df_team.columns.str.contains('^Unnamed')]\n",
    "team_id_map = dict(zip(df_team.team_name, df_team.team_id))"
   ]
  },
  {
   "cell_type": "code",
   "execution_count": null,
   "metadata": {},
   "outputs": [],
   "source": [
    "df_player = pd.read_csv(os.path.join(clean_data_path, \"player.csv\"))\n",
    "df_player = df_player.loc[:, ~df_player.columns.str.contains('^Unnamed')]\n",
    "player_dispname_id_map = dict(zip(df_player.player_display_name, df_player.player_id))\n",
    "player_name_id_map = dict(zip(df_player.player_name, df_player.player_id))\n",
    "player_fullname_id_map = dict(zip(df_player.player_full_name, df_player.player_id))"
   ]
  },
  {
   "cell_type": "code",
   "execution_count": null,
   "metadata": {},
   "outputs": [],
   "source": [
    "player_name_id_map[\"Dan Christian\"] = player_name_id_map[\"Daniel Christian\"]"
   ]
  },
  {
   "cell_type": "markdown",
   "metadata": {},
   "source": [
    "### Utility functions."
   ]
  },
  {
   "cell_type": "code",
   "execution_count": null,
   "metadata": {},
   "outputs": [],
   "source": [
    "def get_from_obj(obj, key):\n",
    "    try:\n",
    "        return obj[key]\n",
    "    except Exception as e:\n",
    "        return \"\""
   ]
  },
  {
   "cell_type": "code",
   "execution_count": null,
   "metadata": {},
   "outputs": [],
   "source": [
    "schedule = {}\n",
    "\n",
    "URL = 'https://www.espncricinfo.com/series/ipl-2021-1249214/match-schedule-fixtures'\n",
    "page = requests.get(URL)\n",
    "page_content = BeautifulSoup(page.content, 'html.parser')\n",
    "matches = page_content.find_all('div', class_='match-info match-info-FIXTURES')\n",
    "match_no = 1\n",
    "for match in tqdm(matches):\n",
    "    status = match.find('div', class_='status')\n",
    "    time = status.find('span').text\n",
    "    venue = match.find('div', class_='description').text.split(\",\")[1]\n",
    "    teams = match.find_all('p', class_='name')\n",
    "    schedule[match_no] = {\n",
    "        \"match_no\" : match_no,\n",
    "        \"time\" : time, \n",
    "        \"venue\" : venue.replace(' ', ''),\n",
    "        \"team_1\" : team_id_map[process.extractOne(teams[0].text, team_id_map.keys())[0]],\n",
    "        \"team_2\" : team_id_map[process.extractOne(teams[1].text, team_id_map.keys())[0]],\n",
    "        \"match_display_name\" : f\"{teams[0].text} vs {teams[1].text}\"\n",
    "    }\n",
    "    match_no += 1\n",
    "df_ipl_schedule_csv = pd.DataFrame.from_dict(schedule, \"index\")\n",
    "df_ipl_schedule_csv.to_csv(os.path.join(clean_data_path, \"schedule.csv\"), index=False)"
   ]
  },
  {
   "cell_type": "code",
   "execution_count": null,
   "metadata": {},
   "outputs": [],
   "source": [
    "team_urls = {\n",
    "    \"csk\" : \"https://www.espncricinfo.com/ci/content/squad/1252150.html\",\n",
    "    \"dc\" : \"https://www.espncricinfo.com/ci/content/squad/1252198.html\",\n",
    "    \"kkr\" : \"https://www.espncricinfo.com/ci/content/squad/1252188.html\",\n",
    "    \"mi\" : \"https://www.espncricinfo.com/ci/content/squad/1252149.html\",\n",
    "    \"pk\" : \"https://www.espncricinfo.com/ci/content/squad/1252194.html\",\n",
    "    \"rr\" : \"https://www.espncricinfo.com/ci/content/squad/1252201.html\",\n",
    "    \"rcb\" : \"https://www.espncricinfo.com/ci/content/squad/1252176.html\",\n",
    "    \"srh\" : \"https://www.espncricinfo.com/ci/content/squad/1252199.html\"\n",
    "}"
   ]
  },
  {
   "cell_type": "code",
   "execution_count": null,
   "metadata": {},
   "outputs": [],
   "source": [
    "ipl_squads_csv = {}\n",
    "player_id = 1;\n",
    "for team in tqdm((team_urls), position=0, leave=True):\n",
    "    team_url = team_urls[team]\n",
    "    team_page = requests.get(team_url)\n",
    "    team_page_content = BeautifulSoup(team_page.content, 'html.parser')\n",
    "    main = team_page_content.find_all('div', class_='squads_main')\n",
    "    team_name = main[0].find_all('h1')[0].text.split(\" / \")[0][:-6]\n",
    "    players = team_page_content.find_all('div', class_='large-13')\n",
    "    for player in players:\n",
    "        player_header = player.find('a')\n",
    "        espn_player_id = player_header['href'].split(\"/\")[-1][:-5]\n",
    "        player_name = player_header.text.strip()\n",
    "        player_display_name = \"\" # This needs to be updated later with fuzzy matching\n",
    "        \n",
    "        player_type = player.find('h3').find('span')\n",
    "        if player_type and player_type.text == 'coach':\n",
    "            continue;\n",
    "        \n",
    "        player_url = 'https://www.espncricinfo.com/ci/content/player/' + espn_player_id +'.html'\n",
    "        player_page = requests.get(player_url)\n",
    "        player_page_content = BeautifulSoup(player_page.content, 'html.parser')\n",
    "        player_infos = player_page_content.find('div', class_='player_overview-grid').find_all('div')\n",
    "        player_info_map = {}\n",
    "        for info in player_infos:\n",
    "            player_info_map[info.find('p').text] = info.find('h5').text\n",
    "        ipl_squads_csv[player_id] = {\n",
    "            \"player_id\" : player_id,\n",
    "            \"team_name\" : team_name,\n",
    "            \"player_name\" : player_name,\n",
    "            \"player_display_name\" : player_display_name,\n",
    "            \"player_full_name\" : player_info_map[\"Full Name\"],\n",
    "            \"batting_style\" : get_from_obj(player_info_map, \"Batting Style\"),\n",
    "            \"bowling_style\" : get_from_obj(player_info_map, \"Bowling Style\"),\n",
    "            \"playling_role\" : get_from_obj(player_info_map, \"Playing Role\")\n",
    "        }\n",
    "        player_id += 1\n",
    "df_ipl_squads_csv = pd.DataFrame.from_dict(ipl_squads_csv, \"index\")\n",
    "#df_ipl_squads_csv.to_csv(os.path.join(clean_data_path, \"ipl_squads.csv\"), index=False)"
   ]
  },
  {
   "cell_type": "markdown",
   "metadata": {},
   "source": [
    "## Adding the players from ipl 2021 squads to our main table\n",
    "### After all players are mapped there should be no print statements in the exception section"
   ]
  },
  {
   "cell_type": "code",
   "execution_count": null,
   "metadata": {
    "tags": []
   },
   "outputs": [],
   "source": [
    "team_player_ipl = defaultdict(list)\n",
    "not_mapped = 0\n",
    "for index, row in df_ipl_squads_csv.iterrows():\n",
    "    try:\n",
    "        player_id = player_name_id_map[row[\"player_name\"]]\n",
    "        team_player_ipl[team_id_map[row['team_name']]].append(player_id)\n",
    "    except Exception as e:\n",
    "        #print(f\"{row['player_name']} not mapped\")\n",
    "        player_name = row['player_name']\n",
    "        player_full_name = row['player_full_name']\n",
    "        batting_style = row['batting_style']\n",
    "        bowling_style = row['bowling_style']\n",
    "        country_id = '2'\n",
    "        team_id = str(team_id_map[row['team_name']])\n",
    "        print(f'add_player(\"\", \"{player_name}\", \"{player_full_name}\", \"{batting_style}\", \"{bowling_style}\", \"\", \"{country_id}\", \"{team_id}\")')\n",
    "        not_mapped += 1\n",
    "        continue"
   ]
  },
  {
   "cell_type": "code",
   "execution_count": null,
   "metadata": {
    "tags": []
   },
   "outputs": [],
   "source": [
    "team_squad_ipl = {}\n",
    "i=0\n",
    "for team in team_player_ipl:\n",
    "    team_squad_ipl[i] = {\n",
    "        \"team_id\" : str(team),\n",
    "        \"2007\" : \"\",\n",
    "        \"2008\" : \"\",\n",
    "        \"2009\" : \"\",\n",
    "        \"2010\" : \"\",\n",
    "        \"2011\" : \"\",\n",
    "        \"2012\" : \"\",\n",
    "        \"2013\" : \"\",\n",
    "        \"2014\" : \"\",\n",
    "        \"2015\" : \"\",\n",
    "        \"2016\" : \"\",\n",
    "        \"2017\" : \"\",\n",
    "        \"2018\" : \"\",\n",
    "        \"2019\" : \"\",\n",
    "        \"2020\" : \"\",\n",
    "        \"2021\" : \",\".join(str(player_id) for player_id in team_player_ipl[team]),\n",
    "    }\n",
    "    i += 1\n",
    "df_team_squad_ipl = pd.DataFrame.from_dict(team_squad_ipl, \"index\")\n",
    "df_team_squad_ipl.to_csv(os.path.join(clean_data_path, \"squad.csv\"), index=False)"
   ]
  },
  {
   "cell_type": "code",
   "execution_count": null,
   "metadata": {},
   "outputs": [],
   "source": []
  }
 ],
 "metadata": {
  "kernelspec": {
   "display_name": "cricboard",
   "language": "python",
   "name": "cricboard"
  },
  "language_info": {
   "codemirror_mode": {
    "name": "ipython",
    "version": 3
   },
   "file_extension": ".py",
   "mimetype": "text/x-python",
   "name": "python",
   "nbconvert_exporter": "python",
   "pygments_lexer": "ipython3",
   "version": "3.8.8"
  }
 },
 "nbformat": 4,
 "nbformat_minor": 4
}
