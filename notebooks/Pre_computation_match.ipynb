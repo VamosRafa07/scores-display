{
 "cells": [
  {
   "cell_type": "code",
   "execution_count": null,
   "id": "informative-belly",
   "metadata": {},
   "outputs": [],
   "source": [
    "import numpy as np\n",
    "import os\n",
    "import pandas as pd\n",
    "from tqdm import tqdm\n",
    "import copy\n",
    "import pickle"
   ]
  },
  {
   "cell_type": "code",
   "execution_count": null,
   "id": "controlling-working",
   "metadata": {},
   "outputs": [],
   "source": [
    "# Config variables\n",
    "clean_data_path = os.path.join(\"..\", \"clean_data\") "
   ]
  },
  {
   "cell_type": "code",
   "execution_count": null,
   "id": "graduate-balloon",
   "metadata": {},
   "outputs": [],
   "source": [
    "df_player = pd.read_csv(os.path.join(clean_data_path, \"player.csv\"))\n",
    "df_player = df_player.loc[:, ~df_player.columns.str.contains('^Unnamed')]"
   ]
  },
  {
   "cell_type": "code",
   "execution_count": null,
   "id": "imperial-hormone",
   "metadata": {},
   "outputs": [],
   "source": [
    "df_team = pd.read_csv(os.path.join(clean_data_path, \"team.csv\"))\n",
    "df_team = df_team.loc[:, ~df_team.columns.str.contains('^Unnamed')]\n",
    "team_id_map = dict(zip(df_team.team_name, df_team.team_id))\n",
    "\n",
    "team_id_map[\"Delhi Capitals\"] = team_id_map[\"Delhi Daredevils\"]\n",
    "team_id_map[\"Punjab Kings\"] = team_id_map[\"Kings XI Punjab\"]"
   ]
  },
  {
   "cell_type": "code",
   "execution_count": null,
   "id": "confused-ideal",
   "metadata": {
    "tags": []
   },
   "outputs": [],
   "source": [
    "df_match = pd.read_csv(os.path.join(clean_data_path, \"match.csv\"))\n",
    "df_match = df_match.loc[:, ~df_match.columns.str.contains('^Unnamed')]\n",
    "teams_id=set(df_match[\"team_1\"])\n",
    "teams_names=df_team.loc[df_team.team_id.isin(teams_id)]\n",
    "\n"
   ]
  },
  {
   "cell_type": "code",
   "execution_count": null,
   "id": "interested-twins",
   "metadata": {},
   "outputs": [],
   "source": []
  },
  {
   "cell_type": "code",
   "execution_count": null,
   "id": "opposite-valentine",
   "metadata": {
    "tags": []
   },
   "outputs": [],
   "source": [
    "df_ball = pd.read_csv(os.path.join(clean_data_path, \"ball.csv\"))\n",
    "df_ball = df_ball.loc[:, ~df_ball.columns.str.contains('^Unnamed')]\n"
   ]
  },
  {
   "cell_type": "code",
   "execution_count": null,
   "id": "demographic-aspect",
   "metadata": {},
   "outputs": [],
   "source": [
    "empty_match_object={\n",
    "    \"batting_insights\":{\"runs_scored\" : {\"Powerplay\" : 0, \"Middle_overs\" : 0, \"Death\" : 0, \"Total\" : 0},\n",
    "    \"wickets\" : {\"Powerplay\" : 0, \"Middle_overs\" : 0, \"Death\" : 0, \"Total\" : 0},\n",
    "    \"num_4s\" : {\"Powerplay\" : 0, \"Middle_overs\" : 0, \"Death\" : 0, \"Total\" : 0},\n",
    "    \"num_6s\" : {\"Powerplay\" : 0, \"Middle_overs\" : 0, \"Death\" : 0, \"Total\" : 0},\n",
    "    \"dot_balls\" : {\"Powerplay\" : 0, \"Middle_overs\" : 0, \"Death\" : 0, \"Total\" : 0}},\n",
    "    \"bowling_insights\":{\"runs_conceded\" : {\"Powerplay\" : 0, \"Middle_overs\" : 0, \"Death\" : 0, \"Total\" : 0},\n",
    "    \"wickets_taken\" : {\"Powerplay\" : 0, \"Middle_overs\" : 0, \"Death\" : 0, \"Total\" : 0},\n",
    "    \"num_4s_conceded\" : {\"Powerplay\" : 0, \"Middle_overs\" : 0, \"Death\" : 0, \"Total\" : 0},\n",
    "    \"num_6s_conceded\" : {\"Powerplay\" : 0, \"Middle_overs\" : 0, \"Death\" : 0, \"Total\" : 0},\n",
    "    \"dot_balls_bowled\" : {\"Powerplay\" : 0, \"Middle_overs\" : 0, \"Death\" : 0, \"Total\" : 0}},\n",
    "    \"innings\":1,\n",
    "    \"match_winner\":0,\n",
    "    \"venue\":0,\n",
    "    \"opposition\": 0,\n",
    "    \"match_date\": 0\n",
    "    }"
   ]
  },
  {
   "cell_type": "code",
   "execution_count": null,
   "id": "vocal-swing",
   "metadata": {},
   "outputs": [],
   "source": [
    "match_insight_obj={}"
   ]
  },
  {
   "cell_type": "code",
   "execution_count": null,
   "id": "disturbed-water",
   "metadata": {
    "tags": []
   },
   "outputs": [],
   "source": [
    "ball_temp=df_ball\n",
    "\n",
    "for i,row in tqdm(ball_temp.iterrows()):\n",
    "    match_id = int(row[\"match_id\"])\n",
    "    innings_number = int(row[\"innings_number\"])\n",
    "    required_match=df_match.loc[df_match[\"match_id\"] == match_id]\n",
    "    if innings_number==1:\n",
    "        batting_team=required_match[\"batting_team\"].iloc[0]\n",
    "        bowling_team=required_match[\"chasing_team\"].iloc[0]\n",
    "    else:\n",
    "        batting_team=required_match[\"chasing_team\"].iloc[0]\n",
    "        bowling_team=required_match[\"batting_team\"].iloc[0]\n",
    "    \n",
    "    try:\n",
    "        match_insight_obj[batting_team]\n",
    "    except Exception as e:\n",
    "        match_insight_obj[batting_team] = {}\n",
    "    \n",
    "    try:\n",
    "        match_insight_obj[bowling_team]\n",
    "    except Exception as e:\n",
    "        match_insight_obj[bowling_team] = {}\n",
    "        \n",
    "    try: \n",
    "        match_insight_obj[batting_team][match_id]\n",
    "    except Exception as e:\n",
    "        match_insight_obj[batting_team][match_id] = copy.deepcopy(empty_match_object)    \n",
    "    \n",
    "    try: \n",
    "        match_insight_obj[bowling_team][match_id]\n",
    "    except Exception as e:\n",
    "        match_insight_obj[bowling_team][match_id] = copy.deepcopy(empty_match_object)   \n",
    "    \n",
    "    \n",
    "    #runs scored\n",
    "    total_runs=row[\"total_runs\"]\n",
    "    if row[\"ball_number\"]<6.0:\n",
    "        match_insight_obj[batting_team][match_id][\"batting_insights\"][\"runs_scored\"][\"Powerplay\"]+=total_runs\n",
    "        match_insight_obj[bowling_team][match_id][\"bowling_insights\"][\"runs_conceded\"][\"Powerplay\"]+=total_runs\n",
    "    elif (row[\"ball_number\"]>6.0) and (row[\"ball_number\"]<15.0):\n",
    "        match_insight_obj[batting_team][match_id][\"batting_insights\"][\"runs_scored\"][\"Middle_overs\"]+=total_runs\n",
    "        match_insight_obj[bowling_team][match_id][\"bowling_insights\"][\"runs_conceded\"][\"Middle_overs\"]+=total_runs\n",
    "    else:\n",
    "        match_insight_obj[batting_team][match_id][\"batting_insights\"][\"runs_scored\"][\"Death\"]+=total_runs\n",
    "        match_insight_obj[bowling_team][match_id][\"bowling_insights\"][\"runs_conceded\"][\"Death\"]+=total_runs\n",
    "    match_insight_obj[batting_team][match_id][\"batting_insights\"][\"runs_scored\"][\"Total\"] = match_insight_obj[batting_team][match_id][\"batting_insights\"][\"runs_scored\"][\"Death\"] + match_insight_obj[batting_team][match_id][\"batting_insights\"][\"runs_scored\"][\"Middle_overs\"] + match_insight_obj[batting_team][match_id][\"batting_insights\"][\"runs_scored\"][\"Powerplay\"]    \n",
    "    match_insight_obj[bowling_team][match_id][\"bowling_insights\"][\"runs_conceded\"][\"Total\"] = match_insight_obj[bowling_team][match_id][\"bowling_insights\"][\"runs_conceded\"][\"Death\"] + match_insight_obj[bowling_team][match_id][\"bowling_insights\"][\"runs_conceded\"][\"Middle_overs\"] + match_insight_obj[bowling_team][match_id][\"bowling_insights\"][\"runs_conceded\"][\"Powerplay\"]\n",
    "    \n",
    "    #wickets    \n",
    "    if not np.isnan(row[\"player_dismissed\"]):\n",
    "        if row[\"ball_number\"]<6.0:\n",
    "            match_insight_obj[batting_team][match_id][\"batting_insights\"][\"wickets\"][\"Powerplay\"]+=1\n",
    "            match_insight_obj[bowling_team][match_id][\"bowling_insights\"][\"wickets_taken\"][\"Powerplay\"]+=1\n",
    "        elif (row[\"ball_number\"]>6.0) and (row[\"ball_number\"]<15.0):\n",
    "            match_insight_obj[batting_team][match_id][\"batting_insights\"][\"wickets\"][\"Middle_overs\"]+=1\n",
    "            match_insight_obj[bowling_team][match_id][\"bowling_insights\"][\"wickets_taken\"][\"Middle_overs\"]+=1\n",
    "        else:\n",
    "            match_insight_obj[batting_team][match_id][\"batting_insights\"][\"wickets\"][\"Death\"]+=1\n",
    "            match_insight_obj[bowling_team][match_id][\"bowling_insights\"][\"wickets_taken\"][\"Death\"]+=1\n",
    "    match_insight_obj[batting_team][match_id][\"batting_insights\"][\"wickets\"][\"Total\"] = match_insight_obj[batting_team][match_id][\"batting_insights\"][\"wickets\"][\"Death\"] + match_insight_obj[batting_team][match_id][\"batting_insights\"][\"wickets\"][\"Middle_overs\"] + match_insight_obj[batting_team][match_id][\"batting_insights\"][\"wickets\"][\"Powerplay\"]    \n",
    "    match_insight_obj[bowling_team][match_id][\"bowling_insights\"][\"wickets_taken\"][\"Total\"] = match_insight_obj[bowling_team][match_id][\"bowling_insights\"][\"wickets_taken\"][\"Death\"] + match_insight_obj[bowling_team][match_id][\"bowling_insights\"][\"wickets_taken\"][\"Middle_overs\"] + match_insight_obj[bowling_team][match_id][\"bowling_insights\"][\"wickets_taken\"][\"Powerplay\"]\n",
    "    \n",
    "    #number of 4's for team (i.e including 4legbyes)\n",
    "    if row[\"total_runs\"]==4:\n",
    "        if row[\"ball_number\"]<6.0:\n",
    "            match_insight_obj[batting_team][match_id][\"batting_insights\"][\"num_4s\"][\"Powerplay\"]+=1\n",
    "            match_insight_obj[bowling_team][match_id][\"bowling_insights\"][\"num_4s_conceded\"][\"Powerplay\"]+=1\n",
    "        elif (row[\"ball_number\"]>6.0) and (row[\"ball_number\"]<15.0):\n",
    "            match_insight_obj[batting_team][match_id][\"batting_insights\"][\"num_4s\"][\"Middle_overs\"]+=1\n",
    "            match_insight_obj[bowling_team][match_id][\"bowling_insights\"][\"num_4s_conceded\"][\"Middle_overs\"]+=1\n",
    "        else:\n",
    "            match_insight_obj[batting_team][match_id][\"batting_insights\"][\"num_4s\"][\"Death\"]+=1\n",
    "            match_insight_obj[bowling_team][match_id][\"bowling_insights\"][\"num_4s_conceded\"][\"Death\"]+=1\n",
    "    match_insight_obj[batting_team][match_id][\"batting_insights\"][\"num_4s\"][\"Total\"] = match_insight_obj[batting_team][match_id][\"batting_insights\"][\"num_4s\"][\"Death\"] + match_insight_obj[batting_team][match_id][\"batting_insights\"][\"num_4s\"][\"Middle_overs\"] + match_insight_obj[batting_team][match_id][\"batting_insights\"][\"num_4s\"][\"Powerplay\"]    \n",
    "    match_insight_obj[bowling_team][match_id][\"bowling_insights\"][\"num_4s_conceded\"][\"Total\"] = match_insight_obj[bowling_team][match_id][\"bowling_insights\"][\"num_4s_conceded\"][\"Powerplay\"] + match_insight_obj[bowling_team][match_id][\"bowling_insights\"][\"num_4s_conceded\"][\"Middle_overs\"] + match_insight_obj[bowling_team][match_id][\"bowling_insights\"][\"num_4s_conceded\"][\"Death\"]\n",
    "    \n",
    "    #number of 6s   \n",
    "    if row[\"total_runs\"]==6:\n",
    "        if row[\"ball_number\"]<6.0:\n",
    "            match_insight_obj[batting_team][match_id][\"batting_insights\"][\"num_6s\"][\"Powerplay\"]+=1\n",
    "            match_insight_obj[bowling_team][match_id][\"bowling_insights\"][\"num_6s_conceded\"][\"Powerplay\"]+=1\n",
    "        elif (row[\"ball_number\"]>6.0) and (row[\"ball_number\"]<15.0):\n",
    "            match_insight_obj[batting_team][match_id][\"batting_insights\"][\"num_6s\"][\"Middle_overs\"]+=1\n",
    "            match_insight_obj[bowling_team][match_id][\"bowling_insights\"][\"num_6s_conceded\"][\"Middle_overs\"]+=1\n",
    "        else:\n",
    "            match_insight_obj[batting_team][match_id][\"batting_insights\"][\"num_6s\"][\"Death\"]+=1\n",
    "            match_insight_obj[bowling_team][match_id][\"bowling_insights\"][\"num_6s_conceded\"][\"Death\"]+=1\n",
    "    match_insight_obj[batting_team][match_id][\"batting_insights\"][\"num_6s\"][\"Total\"] = match_insight_obj[batting_team][match_id][\"batting_insights\"][\"num_6s\"][\"Death\"] + match_insight_obj[batting_team][match_id][\"batting_insights\"][\"num_6s\"][\"Middle_overs\"] + match_insight_obj[batting_team][match_id][\"batting_insights\"][\"num_6s\"][\"Powerplay\"]    \n",
    "    match_insight_obj[bowling_team][match_id][\"bowling_insights\"][\"num_6s_conceded\"][\"Total\"] = match_insight_obj[bowling_team][match_id][\"bowling_insights\"][\"num_6s_conceded\"][\"Powerplay\"] + match_insight_obj[bowling_team][match_id][\"bowling_insights\"][\"num_6s_conceded\"][\"Middle_overs\"] + match_insight_obj[bowling_team][match_id][\"bowling_insights\"][\"num_6s_conceded\"][\"Death\"]    \n",
    "    \n",
    "    #number of dot balls of legal deliveries\n",
    "    if row[\"total_runs\"]==0:\n",
    "        if row[\"ball_number\"]<6.0:\n",
    "            match_insight_obj[batting_team][match_id][\"batting_insights\"][\"dot_balls\"][\"Powerplay\"]+=1\n",
    "            match_insight_obj[bowling_team][match_id][\"bowling_insights\"][\"dot_balls_bowled\"][\"Powerplay\"]+=1\n",
    "        elif (row[\"ball_number\"]>6.0) and (row[\"ball_number\"]<15.0):\n",
    "            match_insight_obj[batting_team][match_id][\"batting_insights\"][\"dot_balls\"][\"Middle_overs\"]+=1\n",
    "            match_insight_obj[bowling_team][match_id][\"bowling_insights\"][\"dot_balls_bowled\"][\"Middle_overs\"]+=1\n",
    "        else:\n",
    "            match_insight_obj[batting_team][match_id][\"batting_insights\"][\"dot_balls\"][\"Death\"]+=1\n",
    "            match_insight_obj[bowling_team][match_id][\"bowling_insights\"][\"dot_balls_bowled\"][\"Death\"]+=1\n",
    "    match_insight_obj[batting_team][match_id][\"batting_insights\"][\"dot_balls\"][\"Total\"] = match_insight_obj[batting_team][match_id][\"batting_insights\"][\"dot_balls\"][\"Death\"] + match_insight_obj[batting_team][match_id][\"batting_insights\"][\"dot_balls\"][\"Middle_overs\"] + match_insight_obj[batting_team][match_id][\"batting_insights\"][\"dot_balls\"][\"Powerplay\"]\n",
    "    match_insight_obj[bowling_team][match_id][\"bowling_insights\"][\"dot_balls_bowled\"][\"Total\"] = match_insight_obj[bowling_team][match_id][\"bowling_insights\"][\"dot_balls_bowled\"][\"Death\"] + match_insight_obj[bowling_team][match_id][\"bowling_insights\"][\"dot_balls_bowled\"][\"Middle_overs\"] + match_insight_obj[bowling_team][match_id][\"bowling_insights\"][\"dot_balls_bowled\"][\"Powerplay\"]\n",
    "    \n",
    "    match_insight_obj[batting_team][match_id][\"innings\"]=innings_number\n",
    "    try:\n",
    "        match_insight_obj[batting_team][match_id][\"match_winner\"]=int(required_match[\"match_winner\"].iloc[0])\n",
    "    except Exception as e:\n",
    "        match_insight_obj[batting_team][match_id][\"match_winner\"]=-1   \n",
    "    match_insight_obj[batting_team][match_id][\"venue\"]=required_match[\"venue_id\"].iloc[0]\n",
    "    match_insight_obj[batting_team][match_id][\"match_date\"]=required_match[\"match_date\"].iloc[0][2:6]\n",
    "    match_insight_obj[batting_team][match_id][\"opposition\"]=bowling_team\n",
    "    "
   ]
  },
  {
   "cell_type": "code",
   "execution_count": null,
   "id": "functional-theorem",
   "metadata": {
    "tags": []
   },
   "outputs": [],
   "source": []
  },
  {
   "cell_type": "code",
   "execution_count": null,
   "id": "arbitrary-salvation",
   "metadata": {},
   "outputs": [],
   "source": [
    "with open(os.path.join(clean_data_path, 'pre_compute_match.pkl'), 'wb') as file:\n",
    "    pickle.dump(match_insight_obj, file, pickle.HIGHEST_PROTOCOL)"
   ]
  }
 ],
 "metadata": {
  "kernelspec": {
   "display_name": "Python 3",
   "language": "python",
   "name": "python3"
  },
  "language_info": {
   "codemirror_mode": {
    "name": "ipython",
    "version": 3
   },
   "file_extension": ".py",
   "mimetype": "text/x-python",
   "name": "python",
   "nbconvert_exporter": "python",
   "pygments_lexer": "ipython3",
   "version": "3.8.8"
  }
 },
 "nbformat": 4,
 "nbformat_minor": 5
}
